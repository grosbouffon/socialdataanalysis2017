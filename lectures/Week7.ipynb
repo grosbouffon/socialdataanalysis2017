{
 "cells": [
  {
   "cell_type": "markdown",
   "metadata": {},
   "source": [
    "# Overview\n",
    "\n",
    "This week we dive deeper into D3, but also take time to learn a bit more about the ideas and principles underlying good visualizations. The overview is the following\n",
    "\n",
    "* We beging by doing a lot of reading, specifically we'll check out IDV chapter 6-8.\n",
    "* Then we'll take a break from the reading and watch a short video lecture on visualization\n",
    "* We then read a bit more (IDV chapter 9)\n",
    "* And finally, in Part 4, we use the skills from IDV to visualize crime data from SF.\n",
    "\n",
    "Anyway - let's get to work!"
   ]
  },
  {
   "cell_type": "markdown",
   "metadata": {},
   "source": [
    "## Part 1: A lot of reading (and coding)\n",
    "\n",
    "Ok. We're going to start today with a large chunck of reading. I really like IDV and I recommend you don't just _read_ the book. Instead, use it as a tutorial, by doing the following.\n",
    "\n",
    "* Fire up a local web-server (as described in Chapter 4). And don't forget to use some other port than 8888 if you have a Jupyter Notebook running.\n",
    "* Start from an relatively html page template, something like\n",
    "```\n",
    "<!DOCTYPE html>\n",
    "<html lang=\"en\">\n",
    "    <head>\n",
    "        <meta charset=\"utf-8\">\n",
    "        <title>D3 Page Template</title>\n",
    "        <script type=\"text/javascript\" src=\"../d3/d3.js\"></script>\n",
    "    </head>\n",
    "    <body>\n",
    "        <script type=\"text/javascript\">\n",
    "            // Your beautiful D3 code will go here\n",
    "        </script>\n",
    "    </body>\n",
    "</html>\n",
    "```\n",
    "* Work through each of the many excellent examples in the book _by adding the code discussed line by line_ (feel free to change things a bit to make things your own). **In my opinion this method of slowly building the visualization on your own is much better than downloading pre-baked code from github**. Edit the D3 in an editor, and keep your page open in a browser (with developer tools open). That way you can experience how each new bit of code changes your visualization. This strategy takes longer, but will save you time in the long run (because you'll understand everything much better).\n",
    "\n",
    "> _Reading_: Work through IDV Chapter 6-8 as described above."
   ]
  },
  {
   "cell_type": "markdown",
   "metadata": {},
   "source": [
    "## Part 2: Some theory of visualization\n",
    "\n",
    "Phew, after all that reading it's good to take a bit of time out to think about something else. I recommend you watch our second video lecture on data visualization (once again provided by Andrea Cuttone). This time we go more in depth discussing the anatomy of a visualization and provide a small overview of visualization techniques."
   ]
  },
  {
   "cell_type": "code",
   "execution_count": 2,
   "metadata": {
    "collapsed": false
   },
   "outputs": [
    {
     "data": {
      "text/html": [
       "\n",
       "        <iframe\n",
       "            width=\"800\"\n",
       "            height=\"450\"\n",
       "            src=\"https://www.youtube.com/embed/zE6Nr8trdrw\"\n",
       "            frameborder=\"0\"\n",
       "            allowfullscreen\n",
       "        ></iframe>\n",
       "        "
      ],
      "text/plain": [
       "<IPython.lib.display.YouTubeVideo at 0x1062a4910>"
      ]
     },
     "execution_count": 2,
     "metadata": {},
     "output_type": "execute_result"
    }
   ],
   "source": [
    "# Sune talks about some of the theoretical elements underlying good visualizations\n",
    "from IPython.display import YouTubeVideo\n",
    "YouTubeVideo(\"zE6Nr8trdrw\",width=800, height=450)"
   ]
  },
  {
   "cell_type": "markdown",
   "metadata": {},
   "source": [
    "## Part 3: Even more reading\n",
    "\n",
    "Ok, now it's back to more reading. I know you've already been through a lot. But now things are starting to pay off. You'll learn how to do a bunch of cool things, including awesome animated transitions.\n",
    "\n",
    "I still think you should use the \"interactive/tutorial\" reading strategy as described above, but it's less easy in this chapter. So if you grab some of the code [provided from github](https://github.com/alignedleft/d3-book), I won't hold it against you.\n",
    "\n",
    "> _Reading_: Work your way through IDV Chapter 9."
   ]
  },
  {
   "cell_type": "markdown",
   "metadata": {},
   "source": [
    "## Part 4: The exercises\n",
    "\n",
    "The idea here is to use the techniques you've learned in IDV up to now to create visualization of the SF crime data. We will start with two mini-exercises that are actually related to Chapter 5 in IDV to help you with some basic stuff that you'll need to solve the real exercises.\n",
    "\n",
    "\n",
    "\n",
    "> _Think-about-it exercise_: Loading data from an external file. \n",
    ">\n",
    ">Throughout the book, Scott always simply puts his data in the source code, but you're going to want to import data from external files. When trying to learn this, I found that importing data into D3 was surprisingly difficult. It's because `d3.csv()` is an asynchronous method as described in the gray box **Handling Data Loading Errors** [here](http://chimera.labs.oreilly.com/books/1230000000345/ch05.html#_data) (you'll need to scroll down a tiny bit).\n",
    " * Think about how you would create a version of example 5-14 (the exercise from last week), which loads its data from a simple `.cvs` file with the structure\n",
    "```\n",
    "Data\n",
    "5\n",
    "10\n",
    "15\n",
    "20\n",
    "25\n",
    "```  \n",
    "\n",
    "---\n",
    "\n",
    "\n",
    "> _Think-about-it exercise_: Putting multiple D3 visualizations on a page. \n",
    ">\n",
    "> In IDV, Scott always starts the visualizations with a block of code that looks something like this.\n",
    "> ```\n",
    "var svg = d3.select(\"body\")\n",
    "            .append(\"svg\")\n",
    "            .attr(\"width\", w)\n",
    "            .attr(\"height\", h);\n",
    "```\n",
    "> which selects the `body` of the DOM and appends the SVG element to it. But sometimes you want your visualization to show up somewhere else on the page.\n",
    " * Think about how you would create a version of example 5-14 (the exercise from last week) where the visualization attaches to a different anchor point (e.g. a `div`) instead of `body`. It's a good idea to use an _ID Selector_ (see Chapter 3) to achieve this purpose.\n",
    ">\n",
    "> You can check out [this page](http://www.d3noob.org/2013/07/arranging-more-than-one-d3js-graph-on.html) for additional tips"
   ]
  },
  {
   "cell_type": "markdown",
   "metadata": {
    "collapsed": true
   },
   "source": [
    "> _Exercise_: Create a page with two D3 visualizations of SF Crime data. The page should have the following structure.\n",
    "> \n",
    "> 1. Header summarizing visualization 1\n",
    "> 1. Text describing visualization 1. Assume that the reader hasn't read this exercise.\n",
    "> 1. Visualization 1\n",
    "> 1. Header summarizing visualization 2\n",
    "> 1. Text describing visualization 2. Assume that the reader hasn't read this exercise.\n",
    "> 1. Visualization 2\n",
    ">\n",
    "> Both visualizations should pull data from associated CSV/JSON files (it's easiest to use Python to generate a nicely formatted file that contains _only the data you need for the visualization_). Both visualizations should use appropriate dynamic scales (see chapter 7 of IDV). Additional requirements for the visualizations are listed below\n",
    ">\n",
    "> _Visualization 1_. One scatter plot and two datasets.\n",
    "> * Each point should correspond to a district\n",
    "> * Points should be labeled\n",
    "> * The radius of a point should be proportional to total number of crimes in that district \n",
    "> * The $x$-axis should correspond to total number of `PROSTITUTION` incidents\n",
    "> * The $y$-axis should correspond to total number of `VEHICLE THEFT` incidents\n",
    "> * Click on something (your choice) to toggle between data from 2003 and 2015 - there must be a smooth transition. \n",
    "> * Axes should not change but fit data from both years.\n",
    "> * Explain in your own words why you think I want the axes to be the same for both years? (Even though you know how to make axes adapt to the data values.)\n",
    ">\n",
    "> _Visualization 2_. D3 histogram. We're going to explore the `d3 bar class` in this exercise. There are many ways of creating awesome histgrams, in this exercise we want a graph that:\n",
    "> * Shows relevant data on hovering\n",
    "> * Has descibing labels, titles and generally looks amazing.\n",
    ">\n",
    "> Here's the strategy\n",
    "> * Pick some data from Week 3. You choose what to plot.\n",
    "> * Feel free to color and label according to your own taste. Here's an [example](http://bl.ocks.org/Caged/6476579)\n",
    "> * **Pro tip**: Use Google and steal stuff/ideas that you like.\n",
    ">  \n",
    "> _Visualization 3_. `bl.ocks`. An easy way to share your website code for other developers is through bl.ocks.\n",
    "> * Read the guide on: [bl.ocks.org/about](https://bl.ocks.org/about). (make sure you have only one `.html` file name `index.html`)\n",
    "> * Put your visualization from above (_Visualization 2_) on https://bl.ocks.org\n",
    "\n",
    "> **Optional** Bonus Exercise: _Visualization 4_. One histogram and two datasets.\n",
    ">\n",
    "> * This visualization consists of one histogram, which is able to switch between at least two datasets. You get to choose something from Week 3.\n",
    "> * Click on something to toggle between the two (or more) datasets.\n",
    "> * Feel free to color and label according to your own taste.\n",
    ">\n",
    "> As before, this visualization should be live on your own personal web-page. "
   ]
  }
 ],
 "metadata": {
  "kernelspec": {
   "display_name": "Python [default]",
   "language": "python",
   "name": "python2"
  },
  "language_info": {
   "codemirror_mode": {
    "name": "ipython",
    "version": 2
   },
   "file_extension": ".py",
   "mimetype": "text/x-python",
   "name": "python",
   "nbconvert_exporter": "python",
   "pygments_lexer": "ipython2",
   "version": "2.7.13"
  }
 },
 "nbformat": 4,
 "nbformat_minor": 0
}
