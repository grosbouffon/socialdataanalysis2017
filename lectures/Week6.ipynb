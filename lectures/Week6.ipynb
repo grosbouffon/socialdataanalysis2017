{
 "cells": [
  {
   "cell_type": "markdown",
   "metadata": {},
   "source": [
    "# Overview\n",
    "\n",
    "Today we make a **major shift** in the direction of the course. We will leave the machine learning behind and start working seriously on the visualization. Each of the last three lectures, we will have two main topics\n",
    "\n",
    "* We start with a couple of short lectures on the principles of visualization - why do we need data visualization and what can we do with it. \n",
    "* Then we work with our second text book [Interactive Data Visualization for the Web](http://chimera.labs.oreilly.com/books/1230000000345), which is essentially one long tutorial for learning `D3.js`.\n",
    "\n",
    "Now, you may ask: \"What? We've just learned Python, and now you want us to learn yet another programming language! Why???\". The answer is that you there is no way around D3 if you're serious about visualizing data. D3 stands for \"Data Driven Documents\" and is the right way to create interactive data visualization in the browser. Have a look at the examples below to get a sense of why D3 is the _de facto_ standard for serious data visualization on the web:\n",
    "\n",
    "* [Best demo of time series data _evah_](http://bl.ocks.org/mbostock/raw/1256572/)\n",
    "* [Tokyo Wind speeds](http://air.nullschool.net)\n",
    "* [Changes in the Electorate in Key States and Regions (New York Times)](http://www.nytimes.com/interactive/2012/11/11/sunday-review/counties-moving.html)\n",
    "* [Political Influence and Campaign Donations](http://www.brightpointinc.com/political_influence/)\n",
    "\n",
    "And knowing D3 is an important skill on the job market. And because there's a great community around D3, it's easy to find help for almost any problem on [stackoverflow](http://stackoverflow.com/questions/tagged/d3.js). "
   ]
  },
  {
   "cell_type": "markdown",
   "metadata": {},
   "source": [
    "## Part 1: Fundamentals of data visualization\n",
    "\n",
    "Find your headphones and get an intro to data visualization. As you might recall, I've already snuck in a few examples in the exercises already, so you're not starting with a blank slate. "
   ]
  },
  {
   "cell_type": "code",
   "execution_count": 1,
   "metadata": {
    "collapsed": false
   },
   "outputs": [
    {
     "data": {
      "text/html": [
       "\n",
       "        <iframe\n",
       "            width=\"600\"\n",
       "            height=\"338\"\n",
       "            src=\"https://www.youtube.com/embed/[url]\"\n",
       "            frameborder=\"0\"\n",
       "            allowfullscreen\n",
       "        ></iframe>\n",
       "        "
      ],
      "text/plain": [
       "<IPython.lib.display.YouTubeVideo at 0x101c48a10>"
      ]
     },
     "execution_count": 1,
     "metadata": {},
     "output_type": "execute_result"
    }
   ],
   "source": [
    "# Intro video\n",
    "from IPython.display import YouTubeVideo\n",
    "YouTubeVideo(\"[url]\",width=600, height=338)"
   ]
  },
  {
   "cell_type": "code",
   "execution_count": 2,
   "metadata": {
    "collapsed": false
   },
   "outputs": [
    {
     "data": {
      "text/html": [
       "\n",
       "        <iframe\n",
       "            width=\"600\"\n",
       "            height=\"338\"\n",
       "            src=\"https://www.youtube.com/embed/[url]\"\n",
       "            frameborder=\"0\"\n",
       "            allowfullscreen\n",
       "        ></iframe>\n",
       "        "
      ],
      "text/plain": [
       "<IPython.lib.display.YouTubeVideo at 0x101c76710>"
      ]
     },
     "execution_count": 2,
     "metadata": {},
     "output_type": "execute_result"
    }
   ],
   "source": [
    "YouTubeVideo(\"[url]\",width=600, height=338)"
   ]
  },
  {
   "cell_type": "markdown",
   "metadata": {},
   "source": [
    "## Part 2: IDV Chapter 3\n",
    "\n",
    "So the book reads like a tutorial with lots of embedded examples, etc. I'm not going to ask any questions for Chapter 1 and 2, but unless you're an experienced javascript programmer, do yourself a favor and **read them too**. \n",
    "\n",
    "> _Reading_: Read IDV Chapter 3.\n",
    "\n",
    "Chapter three contains the background on javacript you'll need to get a sense of what's going on once you start on writing stuff in D3. I think Scott says it best in the first line of the chapter \"Solid familiarity with the following concepts **will make your time with D3 a lot less frustrating and a lot more rewarding**. Consider this a brief refresher course on Web-Making 101.\" (my emphasis).\n",
    "\n",
    "It doesn't really make sense to pose any exercise about using the developer tools (no way to hand them in), but I recommend you play around with them and try out the stuff that is discussed in the book (e.g. viewing the boxes that things are rendered in).\n",
    "\n",
    "> _Exercises_: Just a couple of questions to make sure you've read the text\n",
    "> \n",
    "> * Name 7 common HTML elements.\n",
    "> * What's the difference between the `class` and the `id` HTML attributes.\n",
    "> * What does \"DOM\" stand for? Explain in your own word what it refers to.\n",
    "> * What Python structure does the `array` correspond to?\n",
    "> * Which Python container does `object` correspond to?\n",
    "> * Consider the 5 SVG squares in example 3-22. Think about how you'd \n",
    ">  - Add a gray boundary of width 2.\n",
    ">  - Make the squares increasingly transparant from left to right.\n",
    ">  - Make the squares 80 by 80 instead of 30 by 30.\n",
    ">  - Make the squares go from bottom of the SVG element to the top instead of the other way around."
   ]
  },
  {
   "cell_type": "markdown",
   "metadata": {},
   "source": [
    "## Part 3: IDV Chapter 4\n",
    "\n",
    "> _Reading_: Read IDV Chapter 4\n",
    "\n",
    "Now, IDV chapter 4 is nice and short, so not so much to read here, but I want you to do a couple of things here.\n",
    "\n",
    "> _Exercises_: Some practical stuff\n",
    "> \n",
    "> * Download D3. I couldn't get the D3 download link in the book to work, but I found the newest version [here](https://github.com/mbostock/d3/releases/download/v3.5.16/d3.zip). \n",
    ">  - Note: When you unzip, note that the relevant file is called now called `d3.js` and _not_ `d3.v3.js` as the book calls it.\n",
    "> * Fire up a little web server so you can try out D3 locally (you will need this for Chapter 5). \n",
    ">  - Note: Don't forget to start your server **on some other port than `8888`** since that one is already busy hosting your Jupyter notebooks. I use port `8887` but you can choose any port you like.\n",
    "> * Finally, I want you guys to each set up a website (you will need this later). There are many ways to host your own website. I recommend using [Github Pages](https://pages.github.com) they are free, easy to set up, cool, and awesome. [I just set one up](http://suneman.github.io/). But you also have other options. Feel free to use DTU account, your own domain, or whichever other web server you like. \n"
   ]
  },
  {
   "cell_type": "markdown",
   "metadata": {},
   "source": [
    "## Part 4: IDV Chapter 5\n",
    "\n",
    "After all this work, we're finally going to be writing some D3 code. But it's still all about the basics, so no graphics yet, we'll be playing a teensy bit with data but just using it with text. Don't worry, though. Next time, we'll finally get to do some serious plotting.\n",
    "\n",
    "> _Reading_: You guessed it. I want you to read IDV Chapter 5. This time, I recommend you set up a `project-folder` for your D3 code, fire up your little local web server and make sure that you can actually try out all of the examples for the book. That's how you'll learn.\n",
    "\n",
    "---\n",
    "\n",
    "> _Exercises_: Put something simple on the web. For this exercise, I want you to modify the code from the book and place the resulting code on an actual website that's live on the internet (for example the github site that you started during Part 3 above).\n",
    "> \n",
    "> * Create your own version of example 5-14 with the following tweaks\n",
    ">  - It should go on the website you've just set up\n",
    ">  - You should modify the website's global style file to bold, 24 pt, sans-serif font.\n",
    "> * Add some SVG graphics below the D3. Create an new version of the 5 SVG squares in example 3-22. Make the following modifications\n",
    ">  - Add a gray boundary of width 2.\n",
    ">  - Make the squares increasingly transparant from left to right.\n",
    ">  - Make the squares 80 by 80 instead of 30 by 30.\n",
    ">  - Make the squares go from bottom of the SVG element to the top instead of the other way around.\n",
    "\n",
    "Here's my simple page: http://suneman.github.io"
   ]
  },
  {
   "cell_type": "code",
   "execution_count": null,
   "metadata": {
    "collapsed": true
   },
   "outputs": [],
   "source": []
  }
 ],
 "metadata": {
  "kernelspec": {
   "display_name": "Python [default]",
   "language": "python",
   "name": "python2"
  },
  "language_info": {
   "codemirror_mode": {
    "name": "ipython",
    "version": 2
   },
   "file_extension": ".py",
   "mimetype": "text/x-python",
   "name": "python",
   "nbconvert_exporter": "python",
   "pygments_lexer": "ipython2",
   "version": "2.7.13"
  }
 },
 "nbformat": 4,
 "nbformat_minor": 0
}
