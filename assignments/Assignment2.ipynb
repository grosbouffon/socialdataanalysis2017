{
 "cells": [
  {
   "cell_type": "markdown",
   "metadata": {
    "deletable": true,
    "editable": true
   },
   "source": [
    "# Assignment 2\n",
    "\n",
    "## Formalia\n",
    "\n",
    "Please read the [assignment overview page](https://github.com/suneman/socialdataanalysis2017/wiki/Assignments) carefully before proceeding. This page contains information about formatting (including formats etc), group sizes, and many other aspects of handing in the assignment. \n",
    "\n",
    "_If you fail to follow these simple instructions, it will negatively impact your grade!_\n",
    "\n",
    "**Due date and time**: The assignment is due on Monday March 27th, 2017 at 23:55. Simply upload a link to your GitHub repo via [`http://peergrade.io`](http://peergrade.io/).\n",
    "\n",
    "**Peergrading date and time**: _Remember that after handing in you have **1 week** to evaluate a few assignments written by other members of the class_. Thus, the peer evaluations are due on Monday Apr 3rd, 2017 at 23:55."
   ]
  },
  {
   "cell_type": "markdown",
   "metadata": {
    "deletable": true,
    "editable": true
   },
   "source": [
    "## Assignment format\n",
    "\n",
    "This time you will _not_ be handing in an IPython Notebook. Instead you will hand in a link to a GitHub repo. The repo should countain \n",
    "\n",
    "* The files needed for your `D3.js` visualizations\n",
    "* A link to\n",
    "  - **EITHER** your bl.ock.org pages (create a bl.ock for each sub-assignment). Recall that we've bl.ocks during Week 7.\n",
    "  - **OR** your webpage (put both visualizations on a single page). Recall that we've discussed ideas for hosting during Week 6. The webpage should one single page be organized into blocks corresponding to the sub-assignments you're solving. Within the webpage, please use an `<h2>` tag to denote each exercise ... something like\n",
    "```\n",
    "<h2>Assignment 2A: One scatter plot and two datasets</h2>\n",
    "```\n",
    "Also, if you create a webpage, please add a little text before each visualization explaining what we're looking at. Feel free to make the page as fancy as you like (it's always nice when the page looks good), but we will be grading based on the quality of your D3.js visualizations.\n",
    "\n",
    "**Final important thing**: Make sure that you work remains 'live' on line until you've received a final grade for this class."
   ]
  },
  {
   "cell_type": "markdown",
   "metadata": {
    "deletable": true,
    "editable": true
   },
   "source": [
    "## Assignment 2A: One scatter plot and two datasets\n",
    "\n",
    "We will be visualizing SF crime data (the same dataset we've used in all the exerciese). This scatter plot visualization should pull data from an associated CSV/JSON file (it's easiest to use Python to generate a nicely formatted file that contains _only the data you need for the visualization_). You should use appropriate dynamic scales (see chapter 7 of IDV). Additional requirements for the visualizations are listed below\n",
    "\n",
    "* Each point should correspond to a district\n",
    "* Points should be labeled\n",
    "* The radius of a point should be proportional to total number of crimes in that district \n",
    "* The $x$-axis should correspond to total number of `PROSTITUTION` incidents\n",
    "* The $y$-axis should correspond to total number of `VEHICLE THEFT` incidents\n",
    "* Click on something (your choice) to toggle between data from 2003 and 2015 - there must be a smooth transition. \n",
    "* Axes should not change but fit data from both years (e.g. when setting up the dynamic scales, the max values should be set by taking both datasets into arrount).\n",
    "* Explain in your own words why you think I want the axes to be the same for both years? (Even though you know how to make axes adapt to the data values.)"
   ]
  },
  {
   "cell_type": "markdown",
   "metadata": {
    "deletable": true,
    "editable": true
   },
   "source": [
    "## Assignment 2B: Visualizing geodata\n",
    "\n",
    "For this final sub-assignment we will visualize your results from the $K$-means exercise from **week 5**. \n",
    "\n",
    "* We try our luck with an geospatial visualization displaying results for $K = 2,\\ldots,6$. The overall idea is each value of $K$ has an associated view (you should be able to toggle between these) where each of the $K$ centroids is shown as a large colored dot (you choose the color scheme), and all GPS points belonging to that centroid are colored using a related RGB value. [My plot looks like this](https://raw.githubusercontent.com/suneman/socialdataanalysis2017/master/files/week8_1.png).\n",
    "* Also please include an IPython notebook containing only the solution to the $K$-means exercise from week 5 in your GitHub repo so we can check it out, if necessary.\n",
    "\n",
    "You may find that following the steps below are helpful\n",
    "* Using Python, create a CVS/JSON file containing the data you wish to visualize.\n",
    "    * The datapoints you should use, is the same as for week 5, so it is all crimes with type = `PROSTITUTION`\n",
    "    * ** Note**: Think carefully about how you can minimize the size of the file containing the data. My file is around 700KB. Why is the size of the file important?\n",
    "* Start by simply creating a map of the SFPD Districts using the [GeoJSON shapefiles we've lovingly found for you](https://raw.githubusercontent.com/suneman/socialdataanalysis2016/master/files/sfpddistricts.geojson). You get to choose the color and other parameters.\n",
    "    * You can find help in chapter 12 in the IDV book. \n",
    "    * ** Note** : If you do not see anything, take a look at the `scale ` value, and understand the purpose of it. \n",
    "* Start by creating the view for $K = 2$, then generalizing.\n",
    "* Think about how you want to do the toggling. A simple way is to use 5 buttons you can click.\n",
    "  - *[Optional but very cool!]*. You can make your visualization interactive by adding the following functionality. Select each view by clicking a button (standard) but then add the ability to \"preview\" results for some other value of $K$ simply by doing a hover-over of the associated button.\n",
    "* Make the map as fancy as you like. "
   ]
  },
  {
   "cell_type": "code",
   "execution_count": null,
   "metadata": {
    "collapsed": true,
    "deletable": true,
    "editable": true
   },
   "outputs": [],
   "source": []
  }
 ],
 "metadata": {
  "kernelspec": {
   "display_name": "Python [default]",
   "language": "python",
   "name": "python2"
  },
  "language_info": {
   "codemirror_mode": {
    "name": "ipython",
    "version": 2
   },
   "file_extension": ".py",
   "mimetype": "text/x-python",
   "name": "python",
   "nbconvert_exporter": "python",
   "pygments_lexer": "ipython2",
   "version": "2.7.13"
  }
 },
 "nbformat": 4,
 "nbformat_minor": 0
}
